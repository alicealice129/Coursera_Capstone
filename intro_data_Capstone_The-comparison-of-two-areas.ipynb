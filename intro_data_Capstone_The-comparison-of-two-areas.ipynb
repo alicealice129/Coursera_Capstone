{
 "cells": [
  {
   "cell_type": "markdown",
   "metadata": {},
   "source": [
    "# Capstone Project - The-comparison-of-two-areas (introduction and data)\n",
    "### Applied Data Science Capstone by IBM/Coursera"
   ]
  },
  {
   "cell_type": "markdown",
   "metadata": {},
   "source": [
    "## Introduction: Business Problem <a name=\"introduction\"></a>"
   ]
  },
  {
   "cell_type": "markdown",
   "metadata": {},
   "source": [
    "Comparing the kinds of venues in Paris and in Tokyo.\n",
    "\n",
    "Paris and Tokyo are both popular sightseeing spots.\n",
    "In this project we will try to find places releted to venues. Specially, this report will be targeted to stakeholders interested in visiting or investing **venues** in Paris and in Tokyo.\n",
    "\n",
    "\n",
    "There are 23 special wards in Tokyo.\n",
    "We will compare the number of venues and its kind in Tokyo by ward. We will find the 5 most popular venues \n",
    "\n",
    "There are 20 Arrondissements in Paris. \n",
    "We will compare the number of venues and its kind in Paris by ward and we will find the 5 most popular venues.\n",
    "\n",
    "Then we will compare the kinds of both venues.\n"
   ]
  },
  {
   "cell_type": "markdown",
   "metadata": {},
   "source": [
    "## Data <a name=\"data\"></a>"
   ]
  },
  {
   "cell_type": "markdown",
   "metadata": {},
   "source": [
    "Based on definition of our problem, factors that will influence our decission are:\n",
    "\n",
    "*  number of existing venus in the neighborhood (any type of venue)\n",
    "\n",
    "Following data sources will be needed to extract/generate the required information:\n",
    "* centers of areas will be generated algorithmically and approximate addresses of centers of those areas will be obtained using **Google Maps API reverse geocoding**\n",
    "* number of  venues and their type and location in every arrondissement or ward will be obtained using **Foursquare API**\n",
    "* coordinate of Tokyo will be obtained using the below website(we will use the downloaded pdf)\n",
    "    https://www.gsi.go.jp/KOKUJYOHO/CENTER/kendata/tokyo_heso.pdf\n",
    "* coordinate of arrondissements of Paris  will be obtained using **Paris Data Arrondissements** \n",
    "    https://opendata.paris.fr/explore/dataset/arrondissements/table/?sort=-c_ar\n"
   ]
  },
  {
   "cell_type": "code",
   "execution_count": null,
   "metadata": {
    "collapsed": true
   },
   "outputs": [],
   "source": []
  }
 ],
 "metadata": {
  "kernelspec": {
   "display_name": "Python 3",
   "language": "python",
   "name": "python3"
  },
  "language_info": {
   "codemirror_mode": {
    "name": "ipython",
    "version": 3
   },
   "file_extension": ".py",
   "mimetype": "text/x-python",
   "name": "python",
   "nbconvert_exporter": "python",
   "pygments_lexer": "ipython3",
   "version": "3.6.1"
  }
 },
 "nbformat": 4,
 "nbformat_minor": 2
}
